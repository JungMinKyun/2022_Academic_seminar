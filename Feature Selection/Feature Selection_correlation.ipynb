{
 "cells": [
  {
   "cell_type": "markdown",
   "id": "395949ab",
   "metadata": {},
   "source": [
    "# Filter Method : 특정 기준으로 필터링\n",
    "- statistics : 통계적 방법론 (Correlation / Chi-squre /...)\n",
    "- Feature Importance : 중요도 값 기준 (Information / Feature Importance / Boruta)\n",
    "\n",
    ":  변수 선별의 개념으로, Y를 판별하는데 무의미하다고 판단되는 변수를 제거\n",
    "\n",
    "    ex) Feature importance가 낮은 변수, 제거\n",
    "    ex) chi-square test 통해, Y 판별력이 없는 변수 제거\n",
    "    \n",
    ":  제거 기준의 조정에 따라, 몇 개의 변수를 남길지(변수 제거율) 컨트롤 일부 가능\n",
    ":  변수 선택의 결과물이 최종 채택 변수는 아님  "
   ]
  },
  {
   "cell_type": "markdown",
   "id": "877b920a",
   "metadata": {},
   "source": [
    "#단일 변수 선택\n",
    "\n",
    "- 카이스퀘어 검정 통계값\n",
    "- F검정 통계값\n",
    "- 상호정보량(mutual information)\n",
    "- Information Value(보통 실제 프로젝트할때 많이 쓰는 변수)\n",
    "- correlation coefficient\n",
    "\n",
    "각각의 독립변수를 하나만 사용한 예측모형의 성능을 이용하여 가장 분류성능 혹은 상관관계가 높은 변수만 선택하는 방법이다.\n",
    "\n",
    "사이킷런 패키지의 feature_selection 서브패키지는 다음 성능지표를 제공한다.\n",
    "\n",
    "카이제곱 검정 통계값 : chi2\n",
    "분산분석(ANOVA) F검정 통계값 : f_classif\n",
    "상호정보량(mutual information) : mutual_info_classif\n",
    "\n",
    "하지만 단일 변수의 성능이 높은 특징만 모았을 때 전체 성능이 반드시 향상된다는 보장은 없다.\n",
    "feature_selection 서브패키지는 성능이 좋은 변수만 사용하는 전처리기인 SelectKBest 클래스도 제공한다.\n",
    "\n",
    "Information Value 예측력\n",
    "- 0~0.02 무의미\n",
    "- 0.02~0.1 낮은 예측\n",
    "- 0.1~0.3 중간 예측\n",
    "- 0.3~0.5 강한 예측\n",
    "- 0.5~1 너무 강한 예측(의심되는 수치)\n",
    "\n",
    "\n",
    "SelectKBest(score_func=<function f_classif>, *, k=10)\n",
    "- 고정된 k개의 특성을 선택하는 것\n",
    "- score_func:기본값은 f_classif(이 기본값은 분류 기능에서 사용하가능하다)\n",
    "- (여기에 들어갈 수 있는 값들이 앞에서 언급한 chi2,mutal_info_classif 등등이다)\n",
    "- k: 말 그대로 k개의 특성을 선택하는 것"
   ]
  },
  {
   "cell_type": "code",
   "execution_count": 205,
   "id": "eb963e28",
   "metadata": {
    "scrolled": true
   },
   "outputs": [
    {
     "data": {
      "text/html": [
       "<div>\n",
       "<style scoped>\n",
       "    .dataframe tbody tr th:only-of-type {\n",
       "        vertical-align: middle;\n",
       "    }\n",
       "\n",
       "    .dataframe tbody tr th {\n",
       "        vertical-align: top;\n",
       "    }\n",
       "\n",
       "    .dataframe thead th {\n",
       "        text-align: right;\n",
       "    }\n",
       "</style>\n",
       "<table border=\"1\" class=\"dataframe\">\n",
       "  <thead>\n",
       "    <tr style=\"text-align: right;\">\n",
       "      <th></th>\n",
       "      <th>Time</th>\n",
       "      <th>V1</th>\n",
       "      <th>V2</th>\n",
       "      <th>V3</th>\n",
       "      <th>V4</th>\n",
       "      <th>V5</th>\n",
       "      <th>V6</th>\n",
       "      <th>V7</th>\n",
       "      <th>V8</th>\n",
       "      <th>V9</th>\n",
       "      <th>...</th>\n",
       "      <th>V21</th>\n",
       "      <th>V22</th>\n",
       "      <th>V23</th>\n",
       "      <th>V24</th>\n",
       "      <th>V25</th>\n",
       "      <th>V26</th>\n",
       "      <th>V27</th>\n",
       "      <th>V28</th>\n",
       "      <th>Amount</th>\n",
       "      <th>Class</th>\n",
       "    </tr>\n",
       "  </thead>\n",
       "  <tbody>\n",
       "    <tr>\n",
       "      <th>0</th>\n",
       "      <td>0.0</td>\n",
       "      <td>-1.359807</td>\n",
       "      <td>-0.072781</td>\n",
       "      <td>2.536347</td>\n",
       "      <td>1.378155</td>\n",
       "      <td>-0.338321</td>\n",
       "      <td>0.462388</td>\n",
       "      <td>0.239599</td>\n",
       "      <td>0.098698</td>\n",
       "      <td>0.363787</td>\n",
       "      <td>...</td>\n",
       "      <td>-0.018307</td>\n",
       "      <td>0.277838</td>\n",
       "      <td>-0.110474</td>\n",
       "      <td>0.066928</td>\n",
       "      <td>0.128539</td>\n",
       "      <td>-0.189115</td>\n",
       "      <td>0.133558</td>\n",
       "      <td>-0.021053</td>\n",
       "      <td>149.62</td>\n",
       "      <td>0</td>\n",
       "    </tr>\n",
       "    <tr>\n",
       "      <th>1</th>\n",
       "      <td>0.0</td>\n",
       "      <td>1.191857</td>\n",
       "      <td>0.266151</td>\n",
       "      <td>0.166480</td>\n",
       "      <td>0.448154</td>\n",
       "      <td>0.060018</td>\n",
       "      <td>-0.082361</td>\n",
       "      <td>-0.078803</td>\n",
       "      <td>0.085102</td>\n",
       "      <td>-0.255425</td>\n",
       "      <td>...</td>\n",
       "      <td>-0.225775</td>\n",
       "      <td>-0.638672</td>\n",
       "      <td>0.101288</td>\n",
       "      <td>-0.339846</td>\n",
       "      <td>0.167170</td>\n",
       "      <td>0.125895</td>\n",
       "      <td>-0.008983</td>\n",
       "      <td>0.014724</td>\n",
       "      <td>2.69</td>\n",
       "      <td>0</td>\n",
       "    </tr>\n",
       "    <tr>\n",
       "      <th>2</th>\n",
       "      <td>1.0</td>\n",
       "      <td>-1.358354</td>\n",
       "      <td>-1.340163</td>\n",
       "      <td>1.773209</td>\n",
       "      <td>0.379780</td>\n",
       "      <td>-0.503198</td>\n",
       "      <td>1.800499</td>\n",
       "      <td>0.791461</td>\n",
       "      <td>0.247676</td>\n",
       "      <td>-1.514654</td>\n",
       "      <td>...</td>\n",
       "      <td>0.247998</td>\n",
       "      <td>0.771679</td>\n",
       "      <td>0.909412</td>\n",
       "      <td>-0.689281</td>\n",
       "      <td>-0.327642</td>\n",
       "      <td>-0.139097</td>\n",
       "      <td>-0.055353</td>\n",
       "      <td>-0.059752</td>\n",
       "      <td>378.66</td>\n",
       "      <td>0</td>\n",
       "    </tr>\n",
       "    <tr>\n",
       "      <th>3</th>\n",
       "      <td>1.0</td>\n",
       "      <td>-0.966272</td>\n",
       "      <td>-0.185226</td>\n",
       "      <td>1.792993</td>\n",
       "      <td>-0.863291</td>\n",
       "      <td>-0.010309</td>\n",
       "      <td>1.247203</td>\n",
       "      <td>0.237609</td>\n",
       "      <td>0.377436</td>\n",
       "      <td>-1.387024</td>\n",
       "      <td>...</td>\n",
       "      <td>-0.108300</td>\n",
       "      <td>0.005274</td>\n",
       "      <td>-0.190321</td>\n",
       "      <td>-1.175575</td>\n",
       "      <td>0.647376</td>\n",
       "      <td>-0.221929</td>\n",
       "      <td>0.062723</td>\n",
       "      <td>0.061458</td>\n",
       "      <td>123.50</td>\n",
       "      <td>0</td>\n",
       "    </tr>\n",
       "    <tr>\n",
       "      <th>4</th>\n",
       "      <td>2.0</td>\n",
       "      <td>-1.158233</td>\n",
       "      <td>0.877737</td>\n",
       "      <td>1.548718</td>\n",
       "      <td>0.403034</td>\n",
       "      <td>-0.407193</td>\n",
       "      <td>0.095921</td>\n",
       "      <td>0.592941</td>\n",
       "      <td>-0.270533</td>\n",
       "      <td>0.817739</td>\n",
       "      <td>...</td>\n",
       "      <td>-0.009431</td>\n",
       "      <td>0.798278</td>\n",
       "      <td>-0.137458</td>\n",
       "      <td>0.141267</td>\n",
       "      <td>-0.206010</td>\n",
       "      <td>0.502292</td>\n",
       "      <td>0.219422</td>\n",
       "      <td>0.215153</td>\n",
       "      <td>69.99</td>\n",
       "      <td>0</td>\n",
       "    </tr>\n",
       "  </tbody>\n",
       "</table>\n",
       "<p>5 rows × 31 columns</p>\n",
       "</div>"
      ],
      "text/plain": [
       "   Time        V1        V2        V3        V4        V5        V6        V7  \\\n",
       "0   0.0 -1.359807 -0.072781  2.536347  1.378155 -0.338321  0.462388  0.239599   \n",
       "1   0.0  1.191857  0.266151  0.166480  0.448154  0.060018 -0.082361 -0.078803   \n",
       "2   1.0 -1.358354 -1.340163  1.773209  0.379780 -0.503198  1.800499  0.791461   \n",
       "3   1.0 -0.966272 -0.185226  1.792993 -0.863291 -0.010309  1.247203  0.237609   \n",
       "4   2.0 -1.158233  0.877737  1.548718  0.403034 -0.407193  0.095921  0.592941   \n",
       "\n",
       "         V8        V9  ...       V21       V22       V23       V24       V25  \\\n",
       "0  0.098698  0.363787  ... -0.018307  0.277838 -0.110474  0.066928  0.128539   \n",
       "1  0.085102 -0.255425  ... -0.225775 -0.638672  0.101288 -0.339846  0.167170   \n",
       "2  0.247676 -1.514654  ...  0.247998  0.771679  0.909412 -0.689281 -0.327642   \n",
       "3  0.377436 -1.387024  ... -0.108300  0.005274 -0.190321 -1.175575  0.647376   \n",
       "4 -0.270533  0.817739  ... -0.009431  0.798278 -0.137458  0.141267 -0.206010   \n",
       "\n",
       "        V26       V27       V28  Amount  Class  \n",
       "0 -0.189115  0.133558 -0.021053  149.62      0  \n",
       "1  0.125895 -0.008983  0.014724    2.69      0  \n",
       "2 -0.139097 -0.055353 -0.059752  378.66      0  \n",
       "3 -0.221929  0.062723  0.061458  123.50      0  \n",
       "4  0.502292  0.219422  0.215153   69.99      0  \n",
       "\n",
       "[5 rows x 31 columns]"
      ]
     },
     "metadata": {},
     "output_type": "display_data"
    },
    {
     "data": {
      "text/plain": [
       "(284807, 31)"
      ]
     },
     "metadata": {},
     "output_type": "display_data"
    },
    {
     "data": {
      "text/plain": [
       "Index(['Time', 'V1', 'V2', 'V3', 'V4', 'V5', 'V6', 'V7', 'V8', 'V9', 'V10',\n",
       "       'V11', 'V12', 'V13', 'V14', 'V15', 'V16', 'V17', 'V18', 'V19', 'V20',\n",
       "       'V21', 'V22', 'V23', 'V24', 'V25', 'V26', 'V27', 'V28', 'Amount',\n",
       "       'Class'],\n",
       "      dtype='object')"
      ]
     },
     "metadata": {},
     "output_type": "display_data"
    }
   ],
   "source": [
    "import pandas as pd\n",
    "import numpy as np\n",
    "import matplotlib.pyplot as plt\n",
    "import warnings\n",
    "warnings.filterwarnings(\"ignore\")\n",
    "%matplotlib inline\n",
    "\n",
    "card_df=pd.read_csv('creditcard.csv')\n",
    "display(card_df.head(5))\n",
    "display(card_df.shape)\n",
    "display(card_df.columns)"
   ]
  },
  {
   "cell_type": "markdown",
   "id": "315f38ff",
   "metadata": {},
   "source": [
    "# 훈련과 테스트 데이터로 분리"
   ]
  },
  {
   "cell_type": "code",
   "execution_count": 206,
   "id": "a6f79ad0",
   "metadata": {},
   "outputs": [
    {
     "name": "stdout",
     "output_type": "stream",
     "text": [
      "학습 데이터 레이블 값 비율\n",
      "0    99.827451\n",
      "1     0.172549\n",
      "Name: Class, dtype: float64\n",
      "테스트 데이터 레이블 값 비율\n",
      "0    99.826785\n",
      "1     0.173215\n",
      "Name: Class, dtype: float64\n"
     ]
    }
   ],
   "source": [
    "from sklearn.model_selection import train_test_split\n",
    "\n",
    "def get_preprocessed_df(df=None):\n",
    "    df_copy=df.copy()\n",
    "    df_copy.drop('Time',axis=1,inplace=True)\n",
    "    return df_copy\n",
    "\n",
    "def get_train_test_dataset(df=None):\n",
    "    df_copy=get_preprocessed_df(df)\n",
    "    X_features=df_copy.iloc[:,:-1]\n",
    "    y_target=df_copy.iloc[:,-1]\n",
    "    X_train,X_test,y_train,y_test=train_test_split(X_features,y_target,test_size=0.3,random_state=0,stratify=y_target)\n",
    "    return X_train,X_test,y_train,y_test\n",
    "\n",
    "X_train, X_test, y_train, y_test=get_train_test_dataset(card_df)\n",
    "\n",
    "print('학습 데이터 레이블 값 비율')\n",
    "print(y_train.value_counts()/y_train.shape[0]*100)\n",
    "print('테스트 데이터 레이블 값 비율')\n",
    "print(y_test.value_counts()/y_test.shape[0]*100)"
   ]
  },
  {
   "cell_type": "markdown",
   "id": "a200c182",
   "metadata": {},
   "source": [
    "# feature importance 시각화"
   ]
  },
  {
   "cell_type": "code",
   "execution_count": 207,
   "id": "bfe9d68a",
   "metadata": {},
   "outputs": [],
   "source": [
    "from sklearn.metrics import accuracy_score, confusion_matrix\n",
    "from sklearn.metrics import precision_score, recall_score, f1_score, roc_auc_score\n",
    "\n",
    "def get_model_train_eval(model, feature_train=None, feature_test=None, target_train=None, target_test=None):\n",
    "    # 모델 생성 및 학습/예측/평가 함수 정의\n",
    "    model.fit(feature_train, target_train)\n",
    "    pred=model.predict(feature_test)\n",
    "    pred_proba=model.predict_proba(feature_test)[:,1]\n",
    "    \n",
    "    # 분류모델 평가 함수 정의\n",
    "    confusion=confusion_matrix(target_test,pred)         # 오차행렬\n",
    "    accuracy=accuracy_score(target_test,pred)            # 정확도\n",
    "    precision=precision_score(target_test,pred)          # 정밀도\n",
    "    recall=recall_score(target_test,pred)                # 재현율\n",
    "    f1=f1_score(target_test,pred)                        # F1 스코어\n",
    "    roc_auc=roc_auc_score(target_test,pred_proba)        # auc 스코어\n",
    "    print('정확도: {0:.4f}, 정밀도: {1:.4f}, 재현율: {2:.4f}, F1: {3:.4f}, AUC: {4:.4f}'.format(accuracy,precision,recall,f1,roc_auc))"
   ]
  },
  {
   "cell_type": "code",
   "execution_count": 208,
   "id": "9531b998",
   "metadata": {},
   "outputs": [
    {
     "name": "stdout",
     "output_type": "stream",
     "text": [
      "로지스틱 회귀 성능\n",
      "정확도: 0.9991, 정밀도: 0.8641, 재현율: 0.6014, F1: 0.7092, AUC: 0.9571\n",
      "LightGBM 성능\n",
      "정확도: 0.9995, 정밀도: 0.9573, 재현율: 0.7568, F1: 0.8453, AUC: 0.9790\n"
     ]
    }
   ],
   "source": [
    "#이상치 제거 전\n",
    "from sklearn.linear_model import LogisticRegression\n",
    "from lightgbm import LGBMClassifier\n",
    "\n",
    "lr_clf=LogisticRegression()\n",
    "lgbm_clf=LGBMClassifier(n_estimators=1000,num_leaves=64,n_jobs=-1,boost_from_average=False)\n",
    "# LGBMClassifier 모델 : 불균형 레이블 데이터일 경우 boost_from_average=False 설정\n",
    "\n",
    "print('로지스틱 회귀 성능')\n",
    "get_model_train_eval(lr_clf, X_train, X_test, y_train, y_test)\n",
    "print('LightGBM 성능')\n",
    "get_model_train_eval(lgbm_clf, X_train, X_test, y_train, y_test)\n"
   ]
  },
  {
   "cell_type": "code",
   "execution_count": 209,
   "id": "4ff93954",
   "metadata": {
    "scrolled": false
   },
   "outputs": [
    {
     "data": {
      "text/plain": [
       "<AxesSubplot:title={'center':'Feature importance'}, xlabel='Feature importance', ylabel='Features'>"
      ]
     },
     "execution_count": 209,
     "metadata": {},
     "output_type": "execute_result"
    },
    {
     "data": {
      "image/png": "[encoded data removed]",
      "text/plain": [
       "<Figure size 720x432 with 1 Axes>"
      ]
     },
     "metadata": {
      "needs_background": "light"
     },
     "output_type": "display_data"
    }
   ],
   "source": [
    "# 피처 중요도 시각화\n",
    "from lightgbm import plot_importance\n",
    "\n",
    "fig, ax = plt.subplots(figsize=(10, 6))\n",
    "plot_importance(lgbm_clf, ax=ax)\n"
   ]
  },
  {
   "cell_type": "markdown",
   "id": "95a02751",
   "metadata": {},
   "source": [
    "# 상관관계(Corr) - 이상치 제거"
   ]
  },
  {
   "cell_type": "code",
   "execution_count": 210,
   "id": "1deb6742",
   "metadata": {
    "scrolled": false
   },
   "outputs": [
    {
     "data": {
      "text/plain": [
       "<AxesSubplot:>"
      ]
     },
     "execution_count": 210,
     "metadata": {},
     "output_type": "execute_result"
    },
    {
     "data": {
      "image/png": "[encoded data removed]",
      "text/plain": [
       "<Figure size 648x648 with 2 Axes>"
      ]
     },
     "metadata": {
      "needs_background": "light"
     },
     "output_type": "display_data"
    }
   ],
   "source": [
    "#이상치를 제거(target값과 가장 상관성이 높은 피처들을 위주로)\n",
    "\n",
    "import seaborn as sns\n",
    "\n",
    "plt.figure(figsize=(9,9))\n",
    "corr=card_df.corr()\n",
    "sns.heatmap(corr,cmap='RdBu')"
   ]
  },
  {
   "cell_type": "markdown",
   "id": "9efa8f6d",
   "metadata": {},
   "source": [
    "### - Corr 결과 : class와 음의 상관관계가 가장 높은 피처인 V14와 V17에 대해서 이상치 검출 및 제거"
   ]
  },
  {
   "cell_type": "code",
   "execution_count": null,
   "id": "0337aef0",
   "metadata": {},
   "outputs": [],
   "source": []
  },
  {
   "cell_type": "markdown",
   "id": "704dae49",
   "metadata": {},
   "source": [
    "# V14, V17 산포도"
   ]
  },
  {
   "cell_type": "code",
   "execution_count": 211,
   "id": "94f8ca01",
   "metadata": {},
   "outputs": [
    {
     "data": {
      "image/png": "[encoded data removed]",
      "text/plain": [
       "<Figure size 432x288 with 1 Axes>"
      ]
     },
     "metadata": {
      "needs_background": "light"
     },
     "output_type": "display_data"
    }
   ],
   "source": [
    "# V14, V17 산포도\n",
    "\n",
    "import numpy as np\n",
    "import matplotlib.pyplot as plt\n",
    "\n",
    "\n",
    "plt.scatter(card_df['V14'],card_df['V17'],c=card_df.iloc[:,-1])\n",
    "plt.show()"
   ]
  },
  {
   "cell_type": "code",
   "execution_count": 212,
   "id": "1c4d502b",
   "metadata": {},
   "outputs": [
    {
     "data": {
      "text/plain": [
       "Text(0.5, 1.0, 'V17 vs Class')"
      ]
     },
     "execution_count": 212,
     "metadata": {},
     "output_type": "execute_result"
    },
    {
     "data": {
      "image/png": "[encoded data removed]",
      "text/plain": [
       "<Figure size 1080x576 with 2 Axes>"
      ]
     },
     "metadata": {
      "needs_background": "light"
     },
     "output_type": "display_data"
    }
   ],
   "source": [
    "f, axes = plt.subplots(ncols=2, figsize=(15,8))\n",
    "\n",
    "sns.boxplot(x=\"Class\", y=\"V14\", data=card_df, ax=axes[0])\n",
    "axes[0].set_title('V14 vs Class')\n",
    "\n",
    "sns.boxplot(x=\"Class\", y=\"V17\", data=card_df, ax=axes[1])\n",
    "axes[1].set_title('V17 vs Class')"
   ]
  },
  {
   "cell_type": "markdown",
   "id": "209abbb2",
   "metadata": {},
   "source": [
    "### - Box plot 결과 - V14와 V17에서 target이 0, 1에 있어서  서로 다른 분포를 보여줌 -> 0과 1을 구분하는 중요한 컬럼"
   ]
  },
  {
   "cell_type": "code",
   "execution_count": null,
   "id": "7e984882",
   "metadata": {},
   "outputs": [],
   "source": []
  },
  {
   "cell_type": "markdown",
   "id": "974f0267",
   "metadata": {},
   "source": [
    "# 이상치 제거 - IQR"
   ]
  },
  {
   "cell_type": "code",
   "execution_count": 213,
   "id": "307fb9e8",
   "metadata": {},
   "outputs": [],
   "source": [
    "#원본 데이터 살리기\n",
    "data_copy = card_df.copy()"
   ]
  },
  {
   "cell_type": "code",
   "execution_count": 214,
   "id": "e2b060c3",
   "metadata": {},
   "outputs": [],
   "source": [
    "# IQR 계산 후 이상치 탐지 및 제거\n",
    "# 최솟값보다 작은 테이터 or 최댓값보다 큰 데이터의 index를 가져와 drop\n",
    "\n",
    "import numpy as np\n",
    "\n",
    "def get_outlier(df,column,weight=1.5):\n",
    "    fraud = df[df['Class']==1][column]\n",
    "    quantile_25 = np.percentile(fraud.values,25)\n",
    "    quantile_75 = np.percentile(fraud.values,75)\n",
    "    \n",
    "    iqr = quantile_75-quantile_25\n",
    "    iqr_weighted = iqr*weight\n",
    "    lowest_val = quantile_25-iqr_weighted\n",
    "    highest_val = quantile_75+iqr_weighted\n",
    "    outlier_index = fraud[(fraud<lowest_val)|(fraud>highest_val)].index\n",
    "    \n",
    "    #이상치 제거\n",
    "    df.drop(outlier_index, axis = 0, inplace = True)\n",
    "    print(df.shape)\n",
    "    return df\n"
   ]
  },
  {
   "cell_type": "code",
   "execution_count": 215,
   "id": "830563e3",
   "metadata": {},
   "outputs": [
    {
     "name": "stdout",
     "output_type": "stream",
     "text": [
      "(284803, 31)\n"
     ]
    }
   ],
   "source": [
    "card_V14 = get_outlier(data_copy, 'V14')"
   ]
  },
  {
   "cell_type": "markdown",
   "id": "271a14fc",
   "metadata": {},
   "source": [
    "V14의 이상치 데이터는 총 4개가 나왔고 V17은 나오지 않았습니다.\n",
    "이제 V14의 이상치를 제거하고 모델에 적용하여 모델을 평가해보겠습니다."
   ]
  },
  {
   "cell_type": "code",
   "execution_count": 216,
   "id": "609e80a5",
   "metadata": {},
   "outputs": [],
   "source": [
    "def get_train_test_dataset_v(df):\n",
    "    df_copy=df.copy()\n",
    "    X_features = df_copy.iloc[:,:-1]\n",
    "    y_target = df_copy.iloc[:,-1]\n",
    "    X_train,X_test,y_train,y_test=train_test_split(X_features,y_target,test_size=0.3,random_state=0,stratify=y_target)\n",
    "    return X_train,X_test,y_train,y_test\n",
    "\n",
    "X_train, X_test, y_train, y_test=get_train_test_dataset_v(card_V14)"
   ]
  },
  {
   "cell_type": "code",
   "execution_count": 217,
   "id": "562a2849",
   "metadata": {},
   "outputs": [
    {
     "name": "stdout",
     "output_type": "stream",
     "text": [
      "로지스틱 회귀 성능\n",
      "정확도: 0.9991, 정밀도: 0.7310, 재현율: 0.7260, F1: 0.7285, AUC: 0.9356\n",
      "LightGBM 성능\n",
      "정확도: 0.9996, 정밀도: 0.9603, 재현율: 0.8288, F1: 0.8897, AUC: 0.9795\n"
     ]
    }
   ],
   "source": [
    "from sklearn.linear_model import LogisticRegression\n",
    "from lightgbm import LGBMClassifier\n",
    "\n",
    "lr_clf = LogisticRegression()\n",
    "lgbm_clf = LGBMClassifier(n_estimators=1000,num_leaves=64,n_jobs=-1,boost_from_average=False)\n",
    "\n",
    "print('로지스틱 회귀 성능')\n",
    "get_model_train_eval(lr_clf, X_train, X_test, y_train, y_test)\n",
    "print('LightGBM 성능')\n",
    "get_model_train_eval(lgbm_clf, X_train, X_test, y_train, y_test)"
   ]
  },
  {
   "cell_type": "markdown",
   "id": "16de8193",
   "metadata": {},
   "source": [
    "### # 이상치 제거 결과 : 대체적으로 모델 성능이 더욱 상승했다는 것을 알 수 있음\n",
    "    \n",
    "\n",
    "    \n",
    "* 이상치 제거 전 결과\n",
    "- 로지스틱 회귀 성능\n",
    "- 정확도: 0.9991, 정밀도: 0.8641, 재현율: 0.6014, F1: 0.7092, AUC: 0.9571\n",
    "- LightGBM 성능\n",
    "- 정확도: 0.9995, 정밀도: 0.9573, 재현율: 0.7568, F1: 0.8453, AUC: 0.9790"
   ]
  },
  {
   "cell_type": "code",
   "execution_count": null,
   "id": "cc04426b",
   "metadata": {},
   "outputs": [],
   "source": []
  },
  {
   "cell_type": "code",
   "execution_count": null,
   "id": "1370efc7",
   "metadata": {},
   "outputs": [],
   "source": []
  }
 ],
 "metadata": {
  "kernelspec": {
   "display_name": "Python 3 (ipykernel)",
   "language": "python",
   "name": "python3"
  },
  "language_info": {
   "codemirror_mode": {
    "name": "ipython",
    "version": 3
   },
   "file_extension": ".py",
   "mimetype": "text/x-python",
   "name": "python",
   "nbconvert_exporter": "python",
   "pygments_lexer": "ipython3",
   "version": "3.9.7"
  }
 },
 "nbformat": 4,
 "nbformat_minor": 5
}
